{
  "nbformat": 4,
  "nbformat_minor": 0,
  "metadata": {
    "colab": {
      "provenance": [],
      "collapsed_sections": [
        "kWUlDTXdxXN9",
        "F0MY9M3rxF75"
      ],
      "mount_file_id": "17LbsUJyr9RGT6KslTxJtKakOr9NLarHr",
      "authorship_tag": "ABX9TyN9BbqLMN6H59PT3K9bxKop",
      "include_colab_link": true
    },
    "kernelspec": {
      "name": "python3",
      "display_name": "Python 3"
    },
    "language_info": {
      "name": "python"
    }
  },
  "cells": [
    {
      "cell_type": "markdown",
      "metadata": {
        "id": "view-in-github",
        "colab_type": "text"
      },
      "source": [
        "<a href=\"https://colab.research.google.com/github/Rmianm/Modelos_clasificacion-ML/blob/master/Titanic.ipynb\" target=\"_parent\"><img src=\"https://colab.research.google.com/assets/colab-badge.svg\" alt=\"Open In Colab\"/></a>"
      ]
    },
    {
      "cell_type": "markdown",
      "source": [
        "##Invocar librerías y cargar los data sets"
      ],
      "metadata": {
        "id": "kWUlDTXdxXN9"
      }
    },
    {
      "cell_type": "code",
      "execution_count": 29,
      "metadata": {
        "id": "CD8gnuTYym-Z"
      },
      "outputs": [],
      "source": [
        "import pandas as pd\n",
        "import matplotlib.pyplot as plt \n",
        "import numpy as np \n",
        "from sklearn import tree #Modelo\n",
        "from sklearn.metrics import accuracy_score\n",
        "from sklearn.tree import plot_tree\n",
        "from sklearn import preprocessing\n",
        "from sklearn.preprocessing import StandardScaler"
      ]
    },
    {
      "cell_type": "code",
      "source": [
        "#En esta ocasión cargamos 3 data sets, uno para entrenamiento otro para test y otra especificamente para el target\n",
        "test_df = pd.read_csv('/content/drive/MyDrive/Machine L./Datasets/titanic-test.csv')\n",
        "train_df = pd.read_csv('/content/drive/MyDrive/Machine L./Datasets/titanic-train.csv')\n",
        "test_target = pd.read_csv('/content/drive/MyDrive/Machine L./Datasets/gender_submission.csv')"
      ],
      "metadata": {
        "id": "sVpNOeaG1q0X"
      },
      "execution_count": 30,
      "outputs": []
    },
    {
      "cell_type": "markdown",
      "source": [
        "##Análisis de datos"
      ],
      "metadata": {
        "id": "F0MY9M3rxF75"
      }
    },
    {
      "cell_type": "code",
      "source": [
        "train_df.head(20)"
      ],
      "metadata": {
        "id": "oz2PaNQ_AaK7"
      },
      "execution_count": null,
      "outputs": []
    },
    {
      "cell_type": "code",
      "source": [
        "train_df['Survived'].unique() #Vemos loa posibles valores que toma la variable"
      ],
      "metadata": {
        "id": "dKG02ZF2_Rt_"
      },
      "execution_count": null,
      "outputs": []
    },
    {
      "cell_type": "code",
      "source": [
        "train_df.shape"
      ],
      "metadata": {
        "id": "wjppNRmn2IGQ"
      },
      "execution_count": null,
      "outputs": []
    },
    {
      "cell_type": "code",
      "source": [
        "len(train_df.query('Survived==1')) #Los que sobrevivieron"
      ],
      "metadata": {
        "id": "xudNkbif_ZoU"
      },
      "execution_count": null,
      "outputs": []
    },
    {
      "cell_type": "code",
      "source": [
        "#Cuántos pasajeros habían en barco\n",
        "train_df.Sex.value_counts().plot(kind = 'bar',color=['purple','orange'])\n",
        "plt.title('Distribución de los pasajeros')\n",
        "plt.show()"
      ],
      "metadata": {
        "id": "kb4jQIBK2tAz"
      },
      "execution_count": null,
      "outputs": []
    },
    {
      "cell_type": "code",
      "source": [
        "train_df[(train_df.Survived == 1 )].Sex.value_counts().plot(kind='bar',color=['b','r'])\n",
        "plt.title(\"Distribución de sobrevivientes\")\n",
        "plt.show()"
      ],
      "metadata": {
        "id": "gl5NO-PU33SC"
      },
      "execution_count": null,
      "outputs": []
    },
    {
      "cell_type": "code",
      "source": [
        "train_df.count()"
      ],
      "metadata": {
        "id": "u1W4Z2HMSTlg"
      },
      "execution_count": null,
      "outputs": []
    },
    {
      "cell_type": "code",
      "source": [
        "train_df['Sex'].dtype\n",
        "#En este caso nos ladrá como string, ¿Será correcto dejarlo así?"
      ],
      "metadata": {
        "id": "2a6JihSd4wfR"
      },
      "execution_count": null,
      "outputs": []
    },
    {
      "cell_type": "markdown",
      "source": [
        "##Procesamiento de datos"
      ],
      "metadata": {
        "id": "UlAFaIhwxNk1"
      }
    },
    {
      "cell_type": "code",
      "source": [
        "#Vamos a convertir la variable categórica \"Sex\" a numérica con la label encoding\n",
        "label_encoder = preprocessing.LabelEncoder()\n",
        "encoder_sex = label_encoder.fit_transform(train_df['Sex'])\n",
        "train_df['Sex'] = encoder_sex\n",
        "#Veremos que se puede hacer de otra manera más adecuada líneas adelante con la función get_dummies, ya te lo explicaré."
      ],
      "metadata": {
        "id": "UXArGqZ-5Nh-"
      },
      "execution_count": null,
      "outputs": []
    },
    {
      "cell_type": "code",
      "source": [
        "#También se puede hacer de una manera primitiva jeje\n",
        "test_df['Sex'].replace('male',1,inplace=True)\n",
        "test_df['Sex'].replace('female',0,inplace=True)\n",
        "#No lo recomiendo cuando esta variable tiene muchas categorías."
      ],
      "metadata": {
        "id": "GSfYOdV_F31M"
      },
      "execution_count": null,
      "outputs": []
    },
    {
      "cell_type": "code",
      "source": [
        "#Miramos las variables que tienen datos nullos.\n",
        "test_df.isnull().any()"
      ],
      "metadata": {
        "id": "xX6g4So8HrBx"
      },
      "execution_count": null,
      "outputs": []
    },
    {
      "cell_type": "code",
      "source": [
        "train_df.isnull().any()"
      ],
      "metadata": {
        "id": "UDRjZaeDUIr6"
      },
      "execution_count": null,
      "outputs": []
    },
    {
      "cell_type": "code",
      "source": [
        "#Esta es una forma de llenar los datos, pero con replace puede que no funcione con algunos features por sus datos ya que generarlmente se usa para \n",
        "#Reemplazar un valor valor específico de un frame con otro valor, por ejemplo el sexo.\n",
        "train_df['Age'] = train_df['Age'].replace(np.nan,train_df['Age'].median())\n",
        "test_df[['Age','Fare']] = test_df[['Age','Fare']].replace(np.nan,test_df[['Age','Fare']].median())"
      ],
      "metadata": {
        "id": "fDQs7gUNHGOy"
      },
      "execution_count": null,
      "outputs": []
    },
    {
      "cell_type": "code",
      "source": [
        "#Fillna a diferencia de replace es específicamente usado para datos nulos de un frame y es más completo ya que podemos utilizar métodos opciones\n",
        "#Para personalizar cómo vamos a llenar los datos faltantes.\n",
        "train_df['Age'] = train_df['Age'].fillna(train_df['Age'].median())\n",
        "#Se utilizó la mediana porque si la distribución de la variable es sesgada por outliers o \"valores atípicos\" la media puede verse \n",
        "#afectada por estos valores extremos y no representar adecuadamente la tendencia central de los datos."
      ],
      "metadata": {
        "id": "q6qUD3SkWPgt"
      },
      "execution_count": null,
      "outputs": []
    },
    {
      "cell_type": "code",
      "source": [
        "#Get_dummies al contrario de label encoding puede ser un poco confuso para el modelo porque digamos que tenemos 3 cateogias y a cada uno \n",
        "#le damos el valor de 1, 2, 3. Esto le puede sonar a que la variable con valor de 3 es mayor o menos importante o más con respecto a 1. Entonces lo que \n",
        "#hace dummies es en el caso de sexo es separa en masculino y femenino en dos columnas diferentes, entonces si es masculino se le dará el valor de 1 en \n",
        "#otro caso será de 0, y así con femenino se le dará 1 si lo es.\n",
        "train_predictors = train_df.drop(['PassengerId','Survived', 'Name', 'Ticket', 'Cabin','Embarked'], axis = 1)\n",
        "dummy_encoded = pd.get_dummies(train_predictors)\n",
        "dummy_encoded\n",
        "#las variables dummy variables conviernten ligeramente las variables cateogricas en indicadoras como 0, 1\n",
        "#se crean nuevas columnas por cada valor que tangan las variables cateogricas"
      ],
      "metadata": {
        "id": "zcDB85A2c0v1"
      },
      "execution_count": null,
      "outputs": []
    },
    {
      "cell_type": "code",
      "source": [
        "test_df[['Age','Fare']] = test_df[['Age','Fare']].fillna(test_df[['Age','Fare']].median())\n",
        "test_predictors = test_df.drop(['PassengerId','Name', 'Ticket', 'Cabin','Embarked'], axis = 1)\n",
        "dummy_encoded_test = pd.get_dummies(test_predictors)\n",
        "dummy_encoded_test"
      ],
      "metadata": {
        "id": "kKKVxZx1_LOz"
      },
      "execution_count": null,
      "outputs": []
    },
    {
      "cell_type": "code",
      "source": [
        "dummy_encoded.isnull().any()"
      ],
      "metadata": {
        "id": "REkw_VIsLfzv"
      },
      "execution_count": null,
      "outputs": []
    },
    {
      "cell_type": "code",
      "source": [
        "dummy_encoded_test.isnull().any()"
      ],
      "metadata": {
        "id": "BZ9zIXFVLh6P"
      },
      "execution_count": null,
      "outputs": []
    },
    {
      "cell_type": "code",
      "source": [
        "#Age, Pclass y  Fare son variables con unos valores altos respecto a los otros, así que vamos a normalizarlas\n",
        "escaler = StandardScaler()\n",
        "dummy_encoded_ = escaler.fit_transform(dummy_encoded)\n",
        "dummy_encoded_test_ = escaler.fit_transform(dummy_encoded_test)"
      ],
      "metadata": {
        "id": "yDQwIMSFe9kn"
      },
      "execution_count": null,
      "outputs": []
    },
    {
      "cell_type": "code",
      "source": [
        "dummy_encoded_"
      ],
      "metadata": {
        "id": "3rNIUZJvpE6q"
      },
      "execution_count": null,
      "outputs": []
    },
    {
      "cell_type": "code",
      "source": [
        "dummy_encoded['Sex_female'].dtype\n",
        "#Ahora se ha convertido a variable numérica"
      ],
      "metadata": {
        "id": "45JcsL1fKUiK"
      },
      "execution_count": null,
      "outputs": []
    },
    {
      "cell_type": "code",
      "source": [
        "dummy_encoded_ = pd.DataFrame(dummy_encoded_)\n",
        "dummy_encoded_"
      ],
      "metadata": {
        "id": "oCA9oaY7njek"
      },
      "execution_count": null,
      "outputs": []
    },
    {
      "cell_type": "code",
      "source": [
        "dummy_encoded_test_ = pd.DataFrame(dummy_encoded_test_)\n",
        "dummy_encoded_test_"
      ],
      "metadata": {
        "id": "COX1ENJlgIrC"
      },
      "execution_count": null,
      "outputs": []
    },
    {
      "cell_type": "code",
      "source": [
        "dummy_encoded_test_.columns = dummy_encoded_test.columns"
      ],
      "metadata": {
        "id": "k_dYD1TPhnra"
      },
      "execution_count": null,
      "outputs": []
    },
    {
      "cell_type": "code",
      "source": [
        "dummy_encoded_test_"
      ],
      "metadata": {
        "id": "VmrlvJiFh8ki"
      },
      "execution_count": null,
      "outputs": []
    },
    {
      "cell_type": "code",
      "source": [
        "dummy_encoded_.columns = dummy_encoded.columns\n",
        "dummy_encoded_"
      ],
      "metadata": {
        "id": "1jUBYiqcofNM"
      },
      "execution_count": null,
      "outputs": []
    },
    {
      "cell_type": "code",
      "source": [
        "test_target_ = test_target.drop(['PassengerId'],axis=1)\n",
        "test_target_"
      ],
      "metadata": {
        "id": "Qb-ElnfaBOPL"
      },
      "execution_count": null,
      "outputs": []
    },
    {
      "cell_type": "markdown",
      "source": [
        "##Entrenamiento del modelo de clasificación"
      ],
      "metadata": {
        "id": "YJ0gTi9ZAXtk"
      }
    },
    {
      "cell_type": "code",
      "source": [
        "#Continuamos con la división de los datos de entrenamiento\n",
        "y_target = train_df['Survived'].values\n",
        "x_features_one = dummy_encoded_"
      ],
      "metadata": {
        "id": "0pV5iYbOAbGS"
      },
      "execution_count": null,
      "outputs": []
    },
    {
      "cell_type": "code",
      "source": [
        "#Creamos el árbol\n",
        "tree_one = tree.DecisionTreeClassifier(max_depth=3)\n",
        "tree_one = tree_one.fit(x_features_one,y_target)\n",
        "#Si se modifica max_depth, el árbol de decisión se construirá con una profundidad máxima diferente y, \n",
        "#por lo tanto, puede tener diferentes estructuras y desempeño.\n",
        "#Si reduce la profundidad máxima, el árbol de decisión será más simple y menos profundo lo que puede ayudar a evitar el sobreajuste del modelo. \n",
        "#Sin embargo, un árbol más simple puede no capturar todas las interacciones y patrones complejos en los datos y, por lo tanto, puede tener un rendimiento inferior\n",
        "#Por otro lado, si aumenta la profundidad máxima, el árbol de decisión será más complejo y puede \n",
        "#capturar más patrones en los datos, pero también corre el riesgo de sobreajustarse y no generalizar bien en datos nuevos.\n"
      ],
      "metadata": {
        "id": "d8cEl7g9Cazk"
      },
      "execution_count": null,
      "outputs": []
    },
    {
      "cell_type": "code",
      "source": [
        "#¿Qué tan cercano puede agregar una etiqueta dada las caracteristicas?\n",
        "tre_one_accuracy = round(tree_one.score(x_features_one,y_target),4)\n",
        "print(tre_one_accuracy)\n",
        "#En cuanto llegue un nuevo valor tendrá un #% de probabilidad que le asigne la etiqueta correspondiente"
      ],
      "metadata": {
        "id": "Kuj91RE0m8La"
      },
      "execution_count": null,
      "outputs": []
    },
    {
      "cell_type": "code",
      "source": [
        "y_pred = tree_one.predict(dummy_encoded_test_)"
      ],
      "metadata": {
        "id": "SjGB27xUcuGb"
      },
      "execution_count": null,
      "outputs": []
    },
    {
      "cell_type": "code",
      "source": [
        "#Precisión de y_pred frente a la original\n",
        "accuracy = accuracy_score(test_target_,y_pred)\n",
        "print(f'accuracy: {accuracy}')"
      ],
      "metadata": {
        "id": "bMdMRbynCyQC"
      },
      "execution_count": null,
      "outputs": []
    },
    {
      "cell_type": "code",
      "source": [
        "#Imprimamos el árbol\n",
        "plt.figure(figsize=(14, 8))\n",
        "plot_tree(decision_tree = tree_one, feature_names = dummy_encoded_test_.columns, filled = True, fontsize=8);\n",
        "#Adicionalmente si quieres descargar el árbol utiliza el siguiente código\n",
        "#Se te descarga en tus archivos de Colab\n",
        "plt.savefig('árbolD.png')"
      ],
      "metadata": {
        "id": "3Qs497lKALX0"
      },
      "execution_count": null,
      "outputs": []
    },
    {
      "cell_type": "markdown",
      "source": [
        "####Al explicar un modelo gráfico del árbol se vuelve tan complicado como lo deseemos; el primer dato es la condición que debe cumplir si la cumple hay cierta cantidad de samples o personas o con lo que estemos tratando son los que cumplen la condición, ahora, el gini es la pureza, que se refiere que tanto hay de cada clase, es decir los que sobreviven y los que no, si hay un gini se 0.5 es decir que están dividido en partes iguales, y value[N1,N2], se refiere a los que sobreviven teniendo la condición inicial y los que no, entonces N1 significa los que no sobrevivieron y N2 los que no, entonces los que cumplen con la condición y además sobrevivieron van por el camino de la izquierda."
      ],
      "metadata": {
        "id": "yMkC_ynHlauC"
      }
    }
  ]
}
